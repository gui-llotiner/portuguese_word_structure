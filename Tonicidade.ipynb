{
 "cells": [
  {
   "cell_type": "code",
   "execution_count": 1,
   "metadata": {
    "ExecuteTime": {
     "end_time": "2023-08-11T01:03:41.222585Z",
     "start_time": "2023-08-11T01:03:40.788930Z"
    }
   },
   "outputs": [],
   "source": [
    "import pandas as pd\n",
    "import chime\n",
    "import sys"
   ]
  },
  {
   "cell_type": "code",
   "execution_count": 2,
   "metadata": {
    "ExecuteTime": {
     "end_time": "2023-08-11T01:03:41.254522Z",
     "start_time": "2023-08-11T01:03:41.225557Z"
    }
   },
   "outputs": [
    {
     "data": {
      "text/html": [
       "<div>\n",
       "<style scoped>\n",
       "    .dataframe tbody tr th:only-of-type {\n",
       "        vertical-align: middle;\n",
       "    }\n",
       "\n",
       "    .dataframe tbody tr th {\n",
       "        vertical-align: top;\n",
       "    }\n",
       "\n",
       "    .dataframe thead th {\n",
       "        text-align: right;\n",
       "    }\n",
       "</style>\n",
       "<table border=\"1\" class=\"dataframe\">\n",
       "  <thead>\n",
       "    <tr style=\"text-align: right;\">\n",
       "      <th></th>\n",
       "      <th>Palavra</th>\n",
       "      <th>Frequencia</th>\n",
       "    </tr>\n",
       "  </thead>\n",
       "  <tbody>\n",
       "    <tr>\n",
       "      <th>15248</th>\n",
       "      <td>celebracao</td>\n",
       "      <td>9</td>\n",
       "    </tr>\n",
       "    <tr>\n",
       "      <th>12815</th>\n",
       "      <td>rogos</td>\n",
       "      <td>12</td>\n",
       "    </tr>\n",
       "    <tr>\n",
       "      <th>7536</th>\n",
       "      <td>morder</td>\n",
       "      <td>25</td>\n",
       "    </tr>\n",
       "    <tr>\n",
       "      <th>14522</th>\n",
       "      <td>acomodado</td>\n",
       "      <td>10</td>\n",
       "    </tr>\n",
       "    <tr>\n",
       "      <th>15610</th>\n",
       "      <td>corca</td>\n",
       "      <td>9</td>\n",
       "    </tr>\n",
       "    <tr>\n",
       "      <th>7592</th>\n",
       "      <td>limpo</td>\n",
       "      <td>25</td>\n",
       "    </tr>\n",
       "    <tr>\n",
       "      <th>8334</th>\n",
       "      <td>vencia</td>\n",
       "      <td>22</td>\n",
       "    </tr>\n",
       "    <tr>\n",
       "      <th>10687</th>\n",
       "      <td>aproximei</td>\n",
       "      <td>15</td>\n",
       "    </tr>\n",
       "    <tr>\n",
       "      <th>18311</th>\n",
       "      <td>convergir</td>\n",
       "      <td>7</td>\n",
       "    </tr>\n",
       "    <tr>\n",
       "      <th>18499</th>\n",
       "      <td>conspiracoes</td>\n",
       "      <td>6</td>\n",
       "    </tr>\n",
       "  </tbody>\n",
       "</table>\n",
       "</div>"
      ],
      "text/plain": [
       "            Palavra  Frequencia\n",
       "15248    celebracao           9\n",
       "12815         rogos          12\n",
       "7536         morder          25\n",
       "14522     acomodado          10\n",
       "15610         corca           9\n",
       "7592          limpo          25\n",
       "8334         vencia          22\n",
       "10687     aproximei          15\n",
       "18311     convergir           7\n",
       "18499  conspiracoes           6"
      ]
     },
     "execution_count": 2,
     "metadata": {},
     "output_type": "execute_result"
    }
   ],
   "source": [
    "df = pd.read_csv('palavras_comuns.csv')\n",
    "\n",
    "df = df.sample(10)\n",
    "\n",
    "df"
   ]
  },
  {
   "cell_type": "markdown",
   "metadata": {},
   "source": [
    "#### Encontrando Sílabas"
   ]
  },
  {
   "cell_type": "code",
   "execution_count": 3,
   "metadata": {
    "ExecuteTime": {
     "end_time": "2023-08-11T01:03:41.270437Z",
     "start_time": "2023-08-11T01:03:41.258469Z"
    }
   },
   "outputs": [],
   "source": [
    "# Cria uma lista de vogais\n",
    "vogais = ['a', 'e', 'i', 'o', 'u']\n",
    "\n",
    "# Cria uma lista de consoantes que aceitam CA\n",
    "consoantes_ca = ['b', 'c', 'd', 'f', 'g', 'p', 't']\n",
    "\n",
    "# Cria uma lista de consoantes auxiliares (CA)\n",
    "consoantes_auxiliares = ['l', 'r']\n",
    "\n",
    "# Cria uma lista de consoantes de coda (CC)\n",
    "consoantes_coda = ['m', 'n', 'r', 'l', 'z', 's', 'x']\n",
    "codas = consoantes_coda\n",
    "\n",
    "# Cria uma lista de consoantes que não aceitam CA\n",
    "consoantes_nao_ca = [\n",
    "    'h', 'j', 'm', 'n', 'r','l', 's', 'v', 'x', 'z', 'lh', 'nh', 'qu', 'gu', 'cl',\n",
    "    'ch']"
   ]
  },
  {
   "cell_type": "code",
   "execution_count": 4,
   "metadata": {
    "ExecuteTime": {
     "end_time": "2023-08-11T01:03:41.300565Z",
     "start_time": "2023-08-11T01:03:41.272432Z"
    }
   },
   "outputs": [
    {
     "data": {
      "text/html": [
       "<div>\n",
       "<style scoped>\n",
       "    .dataframe tbody tr th:only-of-type {\n",
       "        vertical-align: middle;\n",
       "    }\n",
       "\n",
       "    .dataframe tbody tr th {\n",
       "        vertical-align: top;\n",
       "    }\n",
       "\n",
       "    .dataframe thead th {\n",
       "        text-align: right;\n",
       "    }\n",
       "</style>\n",
       "<table border=\"1\" class=\"dataframe\">\n",
       "  <thead>\n",
       "    <tr style=\"text-align: right;\">\n",
       "      <th></th>\n",
       "      <th>silabas</th>\n",
       "    </tr>\n",
       "  </thead>\n",
       "  <tbody>\n",
       "    <tr>\n",
       "      <th>0</th>\n",
       "      <td>a</td>\n",
       "    </tr>\n",
       "    <tr>\n",
       "      <th>1</th>\n",
       "      <td>am</td>\n",
       "    </tr>\n",
       "    <tr>\n",
       "      <th>2</th>\n",
       "      <td>an</td>\n",
       "    </tr>\n",
       "    <tr>\n",
       "      <th>3</th>\n",
       "      <td>ans</td>\n",
       "    </tr>\n",
       "    <tr>\n",
       "      <th>4</th>\n",
       "      <td>ar</td>\n",
       "    </tr>\n",
       "    <tr>\n",
       "      <th>...</th>\n",
       "      <td>...</td>\n",
       "    </tr>\n",
       "    <tr>\n",
       "      <th>1165</th>\n",
       "      <td>chur</td>\n",
       "    </tr>\n",
       "    <tr>\n",
       "      <th>1166</th>\n",
       "      <td>chul</td>\n",
       "    </tr>\n",
       "    <tr>\n",
       "      <th>1167</th>\n",
       "      <td>chuz</td>\n",
       "    </tr>\n",
       "    <tr>\n",
       "      <th>1168</th>\n",
       "      <td>chus</td>\n",
       "    </tr>\n",
       "    <tr>\n",
       "      <th>1169</th>\n",
       "      <td>chux</td>\n",
       "    </tr>\n",
       "  </tbody>\n",
       "</table>\n",
       "<p>1170 rows × 1 columns</p>\n",
       "</div>"
      ],
      "text/plain": [
       "     silabas\n",
       "0          a\n",
       "1         am\n",
       "2         an\n",
       "3        ans\n",
       "4         ar\n",
       "...      ...\n",
       "1165    chur\n",
       "1166    chul\n",
       "1167    chuz\n",
       "1168    chus\n",
       "1169    chux\n",
       "\n",
       "[1170 rows x 1 columns]"
      ]
     },
     "execution_count": 4,
     "metadata": {},
     "output_type": "execute_result"
    }
   ],
   "source": [
    "def gerar_silabas(vogais, consoantes_ca, consoantes_auxiliares, consoantes_coda, consoantes_nao_ca):\n",
    "    silabas = []\n",
    "    \n",
    "    # Using only vogais\n",
    "    for vogal in vogais:\n",
    "        silabas.append(vogal)\n",
    "        for cc in consoantes_coda:\n",
    "            silabas.append(vogal + cc)\n",
    "            if cc == 'n':\n",
    "                silabas.append(vogal + cc + 's')\n",
    "                \n",
    "    # Using consoantes_ca\n",
    "    for consoante in consoantes_ca:\n",
    "        for vogal in vogais:\n",
    "            silabas.append(consoante + vogal)\n",
    "            for cc in consoantes_coda:\n",
    "                silabas.append(consoante + vogal + cc)\n",
    "                if cc == 'n':\n",
    "                    silabas.append(consoante + vogal + cc + 's')\n",
    "                    \n",
    "    # Using consoantes_auxiliares\n",
    "    for consoante in consoantes_auxiliares:\n",
    "        for vogal in vogais:\n",
    "            silabas.append(consoante + vogal)\n",
    "            for cc in consoantes_coda:\n",
    "                silabas.append(consoante + vogal + cc)\n",
    "                if cc == 'n':\n",
    "                    silabas.append(consoante + vogal + cc + 's')\n",
    "                    \n",
    "    # Using consoantes_nao_ca\n",
    "    for consoante in consoantes_nao_ca:\n",
    "        for vogal in vogais:\n",
    "            silabas.append(consoante + vogal)\n",
    "            for cc in consoantes_coda:\n",
    "                silabas.append(consoante + vogal + cc)\n",
    "                if cc == 'n':\n",
    "                    silabas.append(consoante + vogal + cc + 's')\n",
    "    \n",
    "    return silabas\n",
    "\n",
    "# Chama a função com os parâmetros especificados\n",
    "resultado = gerar_silabas(vogais, consoantes_ca, consoantes_auxiliares, consoantes_coda, consoantes_nao_ca)\n",
    "\n",
    "# Converte em um dataframe\n",
    "silabas = pd.DataFrame(resultado, columns=['silabas'])\n",
    "\n",
    "silabas"
   ]
  },
  {
   "cell_type": "code",
   "execution_count": 5,
   "metadata": {
    "ExecuteTime": {
     "end_time": "2023-08-11T01:03:41.315797Z",
     "start_time": "2023-08-11T01:03:41.302526Z"
    }
   },
   "outputs": [],
   "source": [
    "silabas.to_csv('silabas.csv')"
   ]
  },
  {
   "cell_type": "markdown",
   "metadata": {},
   "source": [
    "#### "
   ]
  },
  {
   "cell_type": "code",
   "execution_count": 6,
   "metadata": {
    "ExecuteTime": {
     "end_time": "2023-08-11T01:03:41.331593Z",
     "start_time": "2023-08-11T01:03:41.318791Z"
    }
   },
   "outputs": [],
   "source": [
    "def match_syllable_from_start(word, patterns, next_char_cond=None):\n",
    "    \"\"\"Return the longest syllable from the start of the word that matches a pattern.\"\"\"\n",
    "    max_syllable = ''\n",
    "    for pattern in patterns:\n",
    "        if word.startswith(pattern) and len(pattern) > len(max_syllable):\n",
    "            # If there's a condition to check the character after the matched pattern\n",
    "            next_char_index = len(pattern)\n",
    "            if next_char_cond:\n",
    "                # Either the word ends after the coda, or the next character satisfies the condition\n",
    "                if next_char_index == len(word) or (next_char_index < len(word) and next_char_cond(word[next_char_index])):\n",
    "                    max_syllable = pattern\n",
    "            else:\n",
    "                max_syllable = pattern\n",
    "    return max_syllable"
   ]
  },
  {
   "cell_type": "code",
   "execution_count": 7,
   "metadata": {
    "ExecuteTime": {
     "end_time": "2023-08-11T01:03:41.363531Z",
     "start_time": "2023-08-11T01:03:41.333578Z"
    }
   },
   "outputs": [
    {
     "data": {
      "text/html": [
       "<div>\n",
       "<style scoped>\n",
       "    .dataframe tbody tr th:only-of-type {\n",
       "        vertical-align: middle;\n",
       "    }\n",
       "\n",
       "    .dataframe tbody tr th {\n",
       "        vertical-align: top;\n",
       "    }\n",
       "\n",
       "    .dataframe thead th {\n",
       "        text-align: right;\n",
       "    }\n",
       "</style>\n",
       "<table border=\"1\" class=\"dataframe\">\n",
       "  <thead>\n",
       "    <tr style=\"text-align: right;\">\n",
       "      <th></th>\n",
       "      <th>Palavra</th>\n",
       "      <th>Frequencia</th>\n",
       "      <th>Identified_Syllables</th>\n",
       "    </tr>\n",
       "  </thead>\n",
       "  <tbody>\n",
       "    <tr>\n",
       "      <th>15248</th>\n",
       "      <td>celebracao</td>\n",
       "      <td>9</td>\n",
       "      <td>[ce, le, bra, ca, o]</td>\n",
       "    </tr>\n",
       "    <tr>\n",
       "      <th>12815</th>\n",
       "      <td>rogos</td>\n",
       "      <td>12</td>\n",
       "      <td>[ro, gos]</td>\n",
       "    </tr>\n",
       "    <tr>\n",
       "      <th>7536</th>\n",
       "      <td>morder</td>\n",
       "      <td>25</td>\n",
       "      <td>[mor, der]</td>\n",
       "    </tr>\n",
       "    <tr>\n",
       "      <th>14522</th>\n",
       "      <td>acomodado</td>\n",
       "      <td>10</td>\n",
       "      <td>[a, co, mo, da, do]</td>\n",
       "    </tr>\n",
       "    <tr>\n",
       "      <th>15610</th>\n",
       "      <td>corca</td>\n",
       "      <td>9</td>\n",
       "      <td>[cor, ca]</td>\n",
       "    </tr>\n",
       "    <tr>\n",
       "      <th>7592</th>\n",
       "      <td>limpo</td>\n",
       "      <td>25</td>\n",
       "      <td>[lim, po]</td>\n",
       "    </tr>\n",
       "    <tr>\n",
       "      <th>8334</th>\n",
       "      <td>vencia</td>\n",
       "      <td>22</td>\n",
       "      <td>[ven, ci, a]</td>\n",
       "    </tr>\n",
       "    <tr>\n",
       "      <th>10687</th>\n",
       "      <td>aproximei</td>\n",
       "      <td>15</td>\n",
       "      <td>[a, pro, xi, me, i]</td>\n",
       "    </tr>\n",
       "    <tr>\n",
       "      <th>18311</th>\n",
       "      <td>convergir</td>\n",
       "      <td>7</td>\n",
       "      <td>[con, ver, gir]</td>\n",
       "    </tr>\n",
       "    <tr>\n",
       "      <th>18499</th>\n",
       "      <td>conspiracoes</td>\n",
       "      <td>6</td>\n",
       "      <td>[con, pi, ra, co, es]</td>\n",
       "    </tr>\n",
       "  </tbody>\n",
       "</table>\n",
       "</div>"
      ],
      "text/plain": [
       "            Palavra  Frequencia   Identified_Syllables\n",
       "15248    celebracao           9   [ce, le, bra, ca, o]\n",
       "12815         rogos          12              [ro, gos]\n",
       "7536         morder          25             [mor, der]\n",
       "14522     acomodado          10    [a, co, mo, da, do]\n",
       "15610         corca           9              [cor, ca]\n",
       "7592          limpo          25              [lim, po]\n",
       "8334         vencia          22           [ven, ci, a]\n",
       "10687     aproximei          15    [a, pro, xi, me, i]\n",
       "18311     convergir           7        [con, ver, gir]\n",
       "18499  conspiracoes           6  [con, pi, ra, co, es]"
      ]
     },
     "execution_count": 7,
     "metadata": {},
     "output_type": "execute_result"
    }
   ],
   "source": [
    "def identify_syllables_in_word(word, vogais, consoantes_ca, consoantes_auxiliares, consoantes_coda, consoantes_nao_ca):\n",
    "    identified_syllables = []\n",
    "    i = 0\n",
    "\n",
    "    # Patterns list comprehension\n",
    "    ca_vc_coda = [con + ca + v + co for con in consoantes_ca for ca in consoantes_auxiliares for v in vogais for co in consoantes_coda]\n",
    "    c_v_coda = [con + v + co for con in (consoantes_ca + consoantes_nao_ca) for v in vogais for co in consoantes_coda]\n",
    "    ca_v = [con + ca + v for con in consoantes_ca for ca in consoantes_auxiliares for v in vogais]\n",
    "    c_v = [con + v for con in (consoantes_ca + consoantes_nao_ca) for v in vogais]\n",
    "    v_coda = [v + co for v in vogais for co in consoantes_coda]\n",
    "    \n",
    "    while i < len(word):\n",
    "        patterns = [ca_vc_coda, c_v_coda, ca_v, c_v, v_coda, vogais]\n",
    "        \n",
    "        matched = False\n",
    "        for pattern_list in patterns:\n",
    "            syllable = match_syllable_from_start(word[i:], pattern_list)\n",
    "            \n",
    "            # For codas, check if it should be retained as a coda or act as the starting consonant of the next syllable\n",
    "            if syllable and syllable[-1] in consoantes_coda:\n",
    "                if i + len(syllable) < len(word) and word[i + len(syllable)] in vogais:\n",
    "                    # If coda is followed by a vowel, then treat it as the beginning of the next syllable\n",
    "                    syllable = syllable[:-1]\n",
    "            \n",
    "            if syllable:\n",
    "                identified_syllables.append(syllable)\n",
    "                i += len(syllable)\n",
    "                matched = True\n",
    "                break\n",
    "\n",
    "        if not matched:\n",
    "            i += 1  # If no syllable match, just move to the next character\n",
    "\n",
    "    return identified_syllables\n",
    "\n",
    "\n",
    "\n",
    "df['Identified_Syllables'] = df['Palavra'].apply(lambda word: identify_syllables_in_word(word, vogais, consoantes_ca, consoantes_auxiliares, consoantes_coda, consoantes_nao_ca))\n",
    "\n",
    "df"
   ]
  },
  {
   "cell_type": "code",
   "execution_count": 8,
   "metadata": {
    "ExecuteTime": {
     "end_time": "2023-08-11T01:03:41.379433Z",
     "start_time": "2023-08-11T01:03:41.365492Z"
    }
   },
   "outputs": [],
   "source": [
    "chime.success()"
   ]
  }
 ],
 "metadata": {
  "hide_input": false,
  "kernelspec": {
   "display_name": "Python 3 (ipykernel)",
   "language": "python",
   "name": "python3"
  },
  "language_info": {
   "codemirror_mode": {
    "name": "ipython",
    "version": 3
   },
   "file_extension": ".py",
   "mimetype": "text/x-python",
   "name": "python",
   "nbconvert_exporter": "python",
   "pygments_lexer": "ipython3",
   "version": "3.11.13"
  }
 },
 "nbformat": 4,
 "nbformat_minor": 4
}
